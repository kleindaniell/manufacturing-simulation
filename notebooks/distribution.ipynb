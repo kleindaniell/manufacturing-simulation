{
 "cells": [
  {
   "cell_type": "code",
   "execution_count": null,
   "id": "ca64bc51",
   "metadata": {},
   "outputs": [],
   "source": [
    "import seaborn as sns\n",
    "import matplotlib.pyplot as plt \n",
    "import numpy as np\n",
    "from rlsim.engine.utils import DistributionGenerator\n",
    "\n",
    "\n",
    "rnd = DistributionGenerator(123)"
   ]
  },
  {
   "cell_type": "code",
   "execution_count": null,
   "id": "45de191b",
   "metadata": {},
   "outputs": [],
   "source": [
    "parameters = [-1, 1]\n",
    "values = []\n",
    "time = []\n",
    "for i in range(1000):\n",
    "    time.append(i)\n",
    "    values.append(10 + rnd.random_number(\"expo\", parameters))\n",
    "sns.histplot(values)"
   ]
  },
  {
   "cell_type": "code",
   "execution_count": null,
   "id": "c1cc0e2e",
   "metadata": {},
   "outputs": [],
   "source": [
    "sns.histplot(values)"
   ]
  },
  {
   "cell_type": "code",
   "execution_count": null,
   "id": "f81ee9ad",
   "metadata": {},
   "outputs": [],
   "source": [
    "parameters = [7220, 1]\n",
    "values = []\n",
    "time = []\n",
    "for i in range(1000):\n",
    "    time.append(i)\n",
    "    values.append(np.random.exponential(parameters[0]))\n",
    "sns.histplot(values)"
   ]
  },
  {
   "cell_type": "code",
   "execution_count": null,
   "id": "014e9dbe",
   "metadata": {},
   "outputs": [],
   "source": []
  }
 ],
 "metadata": {
  "kernelspec": {
   "display_name": "scheduling",
   "language": "python",
   "name": "python3"
  },
  "language_info": {
   "codemirror_mode": {
    "name": "ipython",
    "version": 3
   },
   "file_extension": ".py",
   "mimetype": "text/x-python",
   "name": "python",
   "nbconvert_exporter": "python",
   "pygments_lexer": "ipython3",
   "version": "3.11.0"
  }
 },
 "nbformat": 4,
 "nbformat_minor": 5
}
